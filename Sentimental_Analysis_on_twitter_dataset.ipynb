{
  "nbformat": 4,
  "nbformat_minor": 0,
  "metadata": {
    "colab": {
      "name": "Sentimental_Analysis_on_twitter_dataset.ipynb",
      "provenance": []
    },
    "kernelspec": {
      "name": "python3",
      "display_name": "Python 3"
    },
    "language_info": {
      "name": "python"
    }
  },
  "cells": [
    {
      "cell_type": "markdown",
      "metadata": {
        "id": "gklBPW9RuRJj"
      },
      "source": [
        "### **Problem Statement**\n",
        "Dataset containing several tweets with positive and negative sentiment associated with it.\n",
        "\n",
        "Cyber bullying and hate speech has been a menace for quite a long time,So our objective for this task is to detect speeches tweets associated with negative sentiments.From this dataset we classify a tweet as hate speech if it has racist or sexist tweets associated with it.\n",
        "\n",
        "So our task here is to classify racist and sexist tweets from other tweets and filter them out."
      ]
    },
    {
      "cell_type": "code",
      "metadata": {
        "id": "aVzhZ4scMYrr"
      },
      "source": [
        "import tensorflow as tf\n",
        "from tensorflow import keras\n",
        "import numpy as np\n",
        "import pandas as pd\n",
        "import seaborn as sns\n",
        "import matplotlib.pyplot as plt\n",
        "%matplotlib inline"
      ],
      "execution_count": 1,
      "outputs": []
    },
    {
      "cell_type": "code",
      "metadata": {
        "id": "4wz__ehGMZaf"
      },
      "source": [
        "url = 'https://raw.githubusercontent.com/AmbujaBudakoti27/Sentiment-Analysis/main/twitter_training_dataset.csv'\n",
        "df = pd.read_csv(url, names=[\"id\", \"label\", \"tweet\"])"
      ],
      "execution_count": 2,
      "outputs": []
    },
    {
      "cell_type": "code",
      "metadata": {
        "colab": {
          "base_uri": "https://localhost:8080/",
          "height": 204
        },
        "id": "SsqcZi8bMcqn",
        "outputId": "d4833864-8695-45e9-ded8-5e2413dd032e"
      },
      "source": [
        "df.head(5)"
      ],
      "execution_count": 3,
      "outputs": [
        {
          "output_type": "execute_result",
          "data": {
            "text/html": [
              "<div>\n",
              "<style scoped>\n",
              "    .dataframe tbody tr th:only-of-type {\n",
              "        vertical-align: middle;\n",
              "    }\n",
              "\n",
              "    .dataframe tbody tr th {\n",
              "        vertical-align: top;\n",
              "    }\n",
              "\n",
              "    .dataframe thead th {\n",
              "        text-align: right;\n",
              "    }\n",
              "</style>\n",
              "<table border=\"1\" class=\"dataframe\">\n",
              "  <thead>\n",
              "    <tr style=\"text-align: right;\">\n",
              "      <th></th>\n",
              "      <th>id</th>\n",
              "      <th>label</th>\n",
              "      <th>tweet</th>\n",
              "    </tr>\n",
              "  </thead>\n",
              "  <tbody>\n",
              "    <tr>\n",
              "      <th>0</th>\n",
              "      <td>id</td>\n",
              "      <td>label</td>\n",
              "      <td>tweet</td>\n",
              "    </tr>\n",
              "    <tr>\n",
              "      <th>1</th>\n",
              "      <td>1</td>\n",
              "      <td>0</td>\n",
              "      <td>@user when a father is dysfunctional and is s...</td>\n",
              "    </tr>\n",
              "    <tr>\n",
              "      <th>2</th>\n",
              "      <td>2</td>\n",
              "      <td>0</td>\n",
              "      <td>@user @user thanks for #lyft credit i can't us...</td>\n",
              "    </tr>\n",
              "    <tr>\n",
              "      <th>3</th>\n",
              "      <td>3</td>\n",
              "      <td>0</td>\n",
              "      <td>bihday your majesty</td>\n",
              "    </tr>\n",
              "    <tr>\n",
              "      <th>4</th>\n",
              "      <td>4</td>\n",
              "      <td>0</td>\n",
              "      <td>#model   i love u take with u all the time in ...</td>\n",
              "    </tr>\n",
              "  </tbody>\n",
              "</table>\n",
              "</div>"
            ],
            "text/plain": [
              "   id  label                                              tweet\n",
              "0  id  label                                              tweet\n",
              "1   1      0   @user when a father is dysfunctional and is s...\n",
              "2   2      0  @user @user thanks for #lyft credit i can't us...\n",
              "3   3      0                                bihday your majesty\n",
              "4   4      0  #model   i love u take with u all the time in ..."
            ]
          },
          "metadata": {
            "tags": []
          },
          "execution_count": 3
        }
      ]
    },
    {
      "cell_type": "markdown",
      "metadata": {
        "id": "lRfmvVXauj26"
      },
      "source": [
        "### **Dataset Description**\n",
        "\n",
        "The data is in csv format.\n",
        "In computing, a comma-separated values (CSV) file stores tabular data (numbers and text) in plain text.\n",
        "Each line of the file is a data record. Each record consists of one or more fields, separated by commas.\n",
        "\n",
        "Formally, given a training sample of tweets and labels, where label ‘1’ denotes the tweet is racist/sexist and label ‘0’ denotes the tweet is not racist/sexist,our objective is to predict the labels on the given test dataset.\n",
        "\n",
        "### Attribute Information\n",
        "\n",
        "\n",
        "*   id : The id associated with the tweets in the given dataset\n",
        "*   tweets : The tweets collected from various sources and having either postive or negative sentiments\n",
        "*   label : A tweet with label '0' is of positive sentiment while a tweet with label '1' is of negative sentiment\n",
        "\n",
        "\n",
        "\n",
        "\n",
        "\n"
      ]
    },
    {
      "cell_type": "code",
      "metadata": {
        "id": "mULN9Qg5OUyZ"
      },
      "source": [
        "df.drop('id',axis='columns',inplace=True)"
      ],
      "execution_count": 4,
      "outputs": []
    },
    {
      "cell_type": "code",
      "metadata": {
        "colab": {
          "base_uri": "https://localhost:8080/"
        },
        "id": "TgThvmNYMeVw",
        "outputId": "88f9ad8b-62f3-4680-b548-6ff26fb6ca76"
      },
      "source": [
        "df.shape"
      ],
      "execution_count": 5,
      "outputs": [
        {
          "output_type": "execute_result",
          "data": {
            "text/plain": [
              "(31963, 2)"
            ]
          },
          "metadata": {
            "tags": []
          },
          "execution_count": 5
        }
      ]
    },
    {
      "cell_type": "code",
      "metadata": {
        "colab": {
          "base_uri": "https://localhost:8080/",
          "height": 418
        },
        "id": "-WAIk-HcObW4",
        "outputId": "e3e5b05b-174a-4c17-b19d-8fe7d6128510"
      },
      "source": [
        "df"
      ],
      "execution_count": 6,
      "outputs": [
        {
          "output_type": "execute_result",
          "data": {
            "text/html": [
              "<div>\n",
              "<style scoped>\n",
              "    .dataframe tbody tr th:only-of-type {\n",
              "        vertical-align: middle;\n",
              "    }\n",
              "\n",
              "    .dataframe tbody tr th {\n",
              "        vertical-align: top;\n",
              "    }\n",
              "\n",
              "    .dataframe thead th {\n",
              "        text-align: right;\n",
              "    }\n",
              "</style>\n",
              "<table border=\"1\" class=\"dataframe\">\n",
              "  <thead>\n",
              "    <tr style=\"text-align: right;\">\n",
              "      <th></th>\n",
              "      <th>label</th>\n",
              "      <th>tweet</th>\n",
              "    </tr>\n",
              "  </thead>\n",
              "  <tbody>\n",
              "    <tr>\n",
              "      <th>0</th>\n",
              "      <td>label</td>\n",
              "      <td>tweet</td>\n",
              "    </tr>\n",
              "    <tr>\n",
              "      <th>1</th>\n",
              "      <td>0</td>\n",
              "      <td>@user when a father is dysfunctional and is s...</td>\n",
              "    </tr>\n",
              "    <tr>\n",
              "      <th>2</th>\n",
              "      <td>0</td>\n",
              "      <td>@user @user thanks for #lyft credit i can't us...</td>\n",
              "    </tr>\n",
              "    <tr>\n",
              "      <th>3</th>\n",
              "      <td>0</td>\n",
              "      <td>bihday your majesty</td>\n",
              "    </tr>\n",
              "    <tr>\n",
              "      <th>4</th>\n",
              "      <td>0</td>\n",
              "      <td>#model   i love u take with u all the time in ...</td>\n",
              "    </tr>\n",
              "    <tr>\n",
              "      <th>...</th>\n",
              "      <td>...</td>\n",
              "      <td>...</td>\n",
              "    </tr>\n",
              "    <tr>\n",
              "      <th>31958</th>\n",
              "      <td>0</td>\n",
              "      <td>ate @user isz that youuu?ðððððð...</td>\n",
              "    </tr>\n",
              "    <tr>\n",
              "      <th>31959</th>\n",
              "      <td>0</td>\n",
              "      <td>to see nina turner on the airwaves trying to...</td>\n",
              "    </tr>\n",
              "    <tr>\n",
              "      <th>31960</th>\n",
              "      <td>0</td>\n",
              "      <td>listening to sad songs on a monday morning otw...</td>\n",
              "    </tr>\n",
              "    <tr>\n",
              "      <th>31961</th>\n",
              "      <td>1</td>\n",
              "      <td>@user #sikh #temple vandalised in in #calgary,...</td>\n",
              "    </tr>\n",
              "    <tr>\n",
              "      <th>31962</th>\n",
              "      <td>0</td>\n",
              "      <td>thank you @user for you follow</td>\n",
              "    </tr>\n",
              "  </tbody>\n",
              "</table>\n",
              "<p>31963 rows × 2 columns</p>\n",
              "</div>"
            ],
            "text/plain": [
              "       label                                              tweet\n",
              "0      label                                              tweet\n",
              "1          0   @user when a father is dysfunctional and is s...\n",
              "2          0  @user @user thanks for #lyft credit i can't us...\n",
              "3          0                                bihday your majesty\n",
              "4          0  #model   i love u take with u all the time in ...\n",
              "...      ...                                                ...\n",
              "31958      0  ate @user isz that youuu?ðððððð...\n",
              "31959      0    to see nina turner on the airwaves trying to...\n",
              "31960      0  listening to sad songs on a monday morning otw...\n",
              "31961      1  @user #sikh #temple vandalised in in #calgary,...\n",
              "31962      0                   thank you @user for you follow  \n",
              "\n",
              "[31963 rows x 2 columns]"
            ]
          },
          "metadata": {
            "tags": []
          },
          "execution_count": 6
        }
      ]
    },
    {
      "cell_type": "code",
      "metadata": {
        "colab": {
          "base_uri": "https://localhost:8080/"
        },
        "id": "YFlaQgqJMgtL",
        "outputId": "d692298f-fdec-4c7f-daad-0e307e07617f"
      },
      "source": [
        "df['label'].value_counts()"
      ],
      "execution_count": 7,
      "outputs": [
        {
          "output_type": "execute_result",
          "data": {
            "text/plain": [
              "0        29720\n",
              "1         2242\n",
              "label        1\n",
              "Name: label, dtype: int64"
            ]
          },
          "metadata": {
            "tags": []
          },
          "execution_count": 7
        }
      ]
    },
    {
      "cell_type": "code",
      "metadata": {
        "colab": {
          "base_uri": "https://localhost:8080/"
        },
        "id": "bETLMJeNP79-",
        "outputId": "2c1c714f-2f75-49be-d436-5dc5869db300"
      },
      "source": [
        "import re\n",
        "import nltk\n",
        "nltk.download('stopwords')\n",
        "from nltk.corpus import stopwords\n",
        "from nltk.stem.porter import PorterStemmer\n",
        "ps = PorterStemmer()\n",
        "\n",
        "for i in range(0, len(df)):\n",
        "  m = re.sub('[^a-zA-Z]', ' ', df[\"tweet\"][i])\n",
        "  m = re.sub('user', '', m)\n",
        "  m = m.lower()\n",
        "  m = m.split()\n",
        "  m = [ps.stem(word) for word in m if not word in stopwords.words('english')]\n",
        "  m =' '.join(m)\n",
        "  df[\"tweet\"][i] = m"
      ],
      "execution_count": 8,
      "outputs": [
        {
          "output_type": "stream",
          "text": [
            "[nltk_data] Downloading package stopwords to /root/nltk_data...\n",
            "[nltk_data]   Unzipping corpora/stopwords.zip.\n"
          ],
          "name": "stdout"
        }
      ]
    },
    {
      "cell_type": "code",
      "metadata": {
        "colab": {
          "base_uri": "https://localhost:8080/",
          "height": 418
        },
        "id": "Ui8bl4ioQTa5",
        "outputId": "97998243-5402-428c-d2c5-fd6f5b79f377"
      },
      "source": [
        "df"
      ],
      "execution_count": 9,
      "outputs": [
        {
          "output_type": "execute_result",
          "data": {
            "text/html": [
              "<div>\n",
              "<style scoped>\n",
              "    .dataframe tbody tr th:only-of-type {\n",
              "        vertical-align: middle;\n",
              "    }\n",
              "\n",
              "    .dataframe tbody tr th {\n",
              "        vertical-align: top;\n",
              "    }\n",
              "\n",
              "    .dataframe thead th {\n",
              "        text-align: right;\n",
              "    }\n",
              "</style>\n",
              "<table border=\"1\" class=\"dataframe\">\n",
              "  <thead>\n",
              "    <tr style=\"text-align: right;\">\n",
              "      <th></th>\n",
              "      <th>label</th>\n",
              "      <th>tweet</th>\n",
              "    </tr>\n",
              "  </thead>\n",
              "  <tbody>\n",
              "    <tr>\n",
              "      <th>0</th>\n",
              "      <td>label</td>\n",
              "      <td>tweet</td>\n",
              "    </tr>\n",
              "    <tr>\n",
              "      <th>1</th>\n",
              "      <td>0</td>\n",
              "      <td>father dysfunct selfish drag kid dysfunct run</td>\n",
              "    </tr>\n",
              "    <tr>\n",
              "      <th>2</th>\n",
              "      <td>0</td>\n",
              "      <td>thank lyft credit use caus offer wheelchair va...</td>\n",
              "    </tr>\n",
              "    <tr>\n",
              "      <th>3</th>\n",
              "      <td>0</td>\n",
              "      <td>bihday majesti</td>\n",
              "    </tr>\n",
              "    <tr>\n",
              "      <th>4</th>\n",
              "      <td>0</td>\n",
              "      <td>model love u take u time ur</td>\n",
              "    </tr>\n",
              "    <tr>\n",
              "      <th>...</th>\n",
              "      <td>...</td>\n",
              "      <td>...</td>\n",
              "    </tr>\n",
              "    <tr>\n",
              "      <th>31958</th>\n",
              "      <td>0</td>\n",
              "      <td>ate isz youuu</td>\n",
              "    </tr>\n",
              "    <tr>\n",
              "      <th>31959</th>\n",
              "      <td>0</td>\n",
              "      <td>see nina turner airwav tri wrap mantl genuin h...</td>\n",
              "    </tr>\n",
              "    <tr>\n",
              "      <th>31960</th>\n",
              "      <td>0</td>\n",
              "      <td>listen sad song monday morn otw work sad</td>\n",
              "    </tr>\n",
              "    <tr>\n",
              "      <th>31961</th>\n",
              "      <td>1</td>\n",
              "      <td>sikh templ vandalis calgari wso condemn act</td>\n",
              "    </tr>\n",
              "    <tr>\n",
              "      <th>31962</th>\n",
              "      <td>0</td>\n",
              "      <td>thank follow</td>\n",
              "    </tr>\n",
              "  </tbody>\n",
              "</table>\n",
              "<p>31963 rows × 2 columns</p>\n",
              "</div>"
            ],
            "text/plain": [
              "       label                                              tweet\n",
              "0      label                                              tweet\n",
              "1          0      father dysfunct selfish drag kid dysfunct run\n",
              "2          0  thank lyft credit use caus offer wheelchair va...\n",
              "3          0                                     bihday majesti\n",
              "4          0                        model love u take u time ur\n",
              "...      ...                                                ...\n",
              "31958      0                                      ate isz youuu\n",
              "31959      0  see nina turner airwav tri wrap mantl genuin h...\n",
              "31960      0           listen sad song monday morn otw work sad\n",
              "31961      1        sikh templ vandalis calgari wso condemn act\n",
              "31962      0                                       thank follow\n",
              "\n",
              "[31963 rows x 2 columns]"
            ]
          },
          "metadata": {
            "tags": []
          },
          "execution_count": 9
        }
      ]
    },
    {
      "cell_type": "markdown",
      "metadata": {
        "id": "kVJO6yzuPGyL"
      },
      "source": [
        "We see here that the data is imbalanced."
      ]
    },
    {
      "cell_type": "code",
      "metadata": {
        "colab": {
          "base_uri": "https://localhost:8080/"
        },
        "id": "K-wszEjsMpHp",
        "outputId": "69214078-f3fd-4c76-abfd-f793b334e097"
      },
      "source": [
        "tweets = df['tweet']\n",
        "tweets"
      ],
      "execution_count": 10,
      "outputs": [
        {
          "output_type": "execute_result",
          "data": {
            "text/plain": [
              "0                                                    tweet\n",
              "1            father dysfunct selfish drag kid dysfunct run\n",
              "2        thank lyft credit use caus offer wheelchair va...\n",
              "3                                           bihday majesti\n",
              "4                              model love u take u time ur\n",
              "                               ...                        \n",
              "31958                                        ate isz youuu\n",
              "31959    see nina turner airwav tri wrap mantl genuin h...\n",
              "31960             listen sad song monday morn otw work sad\n",
              "31961          sikh templ vandalis calgari wso condemn act\n",
              "31962                                         thank follow\n",
              "Name: tweet, Length: 31963, dtype: object"
            ]
          },
          "metadata": {
            "tags": []
          },
          "execution_count": 10
        }
      ]
    },
    {
      "cell_type": "code",
      "metadata": {
        "colab": {
          "base_uri": "https://localhost:8080/"
        },
        "id": "rlY4m9AvM3rQ",
        "outputId": "6b71933a-621c-4e32-c097-53ec13076e77"
      },
      "source": [
        "y = pd.get_dummies(df['label'])\n",
        "y = y.iloc[:,1].values\n",
        "y"
      ],
      "execution_count": 11,
      "outputs": [
        {
          "output_type": "execute_result",
          "data": {
            "text/plain": [
              "array([0, 0, 0, ..., 0, 1, 0], dtype=uint8)"
            ]
          },
          "metadata": {
            "tags": []
          },
          "execution_count": 11
        }
      ]
    },
    {
      "cell_type": "code",
      "metadata": {
        "id": "lzbEeEFRlEwX"
      },
      "source": [
        "from sklearn.feature_extraction.text import CountVectorizer\n",
        "cv = CountVectorizer(max_features = 2500)\n",
        "X = cv.fit_transform(df[\"tweet\"]).toarray()"
      ],
      "execution_count": 12,
      "outputs": []
    },
    {
      "cell_type": "code",
      "metadata": {
        "colab": {
          "base_uri": "https://localhost:8080/"
        },
        "id": "XHjl10cDlgfK",
        "outputId": "0ec75a8e-f989-4898-dc93-51645ed2380c"
      },
      "source": [
        "X"
      ],
      "execution_count": 13,
      "outputs": [
        {
          "output_type": "execute_result",
          "data": {
            "text/plain": [
              "array([[0, 0, 0, ..., 0, 0, 0],\n",
              "       [0, 0, 0, ..., 0, 0, 0],\n",
              "       [0, 0, 0, ..., 0, 0, 0],\n",
              "       ...,\n",
              "       [0, 0, 0, ..., 0, 0, 0],\n",
              "       [0, 0, 0, ..., 0, 0, 0],\n",
              "       [0, 0, 0, ..., 0, 0, 0]])"
            ]
          },
          "metadata": {
            "tags": []
          },
          "execution_count": 13
        }
      ]
    },
    {
      "cell_type": "code",
      "metadata": {
        "id": "PgCfn1Kglk3g"
      },
      "source": [
        "from sklearn.model_selection import train_test_split\n",
        "X_train, X_test, y_train, y_test = train_test_split(X, y, test_size=0.2, random_state=0,  stratify=y)"
      ],
      "execution_count": 14,
      "outputs": []
    },
    {
      "cell_type": "code",
      "metadata": {
        "id": "GmhW9H-Bk_3_"
      },
      "source": [
        "from sklearn.naive_bayes import MultinomialNB\n",
        "sentiment_detect_model_v1 = MultinomialNB().fit(X_train, y_train)\n",
        "y_pred = sentiment_detect_model_v1.predict(X_test)\n",
        "\n",
        "from sklearn.metrics import accuracy_score, f1_score\n",
        "accuracy_v1 = accuracy_score(y_test, y_pred)\n",
        "f1_v1 = f1_score(y_test, y_pred)\n",
        "\n",
        "from sklearn.metrics import confusion_matrix\n",
        "conf_v1 = confusion_matrix(y_test, y_pred)"
      ],
      "execution_count": 15,
      "outputs": []
    },
    {
      "cell_type": "code",
      "metadata": {
        "colab": {
          "base_uri": "https://localhost:8080/"
        },
        "id": "NRi0Qmhmko8r",
        "outputId": "d2eef746-4e7c-494e-b800-8df81d6b1759"
      },
      "source": [
        "accuracy_v1, f1_v1"
      ],
      "execution_count": 16,
      "outputs": [
        {
          "output_type": "execute_result",
          "data": {
            "text/plain": [
              "(0.9424370405130612, 0.6229508196721312)"
            ]
          },
          "metadata": {
            "tags": []
          },
          "execution_count": 16
        }
      ]
    },
    {
      "cell_type": "code",
      "metadata": {
        "id": "-S-z95A_0RB5",
        "colab": {
          "base_uri": "https://localhost:8080/"
        },
        "outputId": "a4aad4af-a289-4636-ed3c-325b9bbeac69"
      },
      "source": [
        "from sklearn.metrics import classification_report\n",
        "classificationr=classification_report(y_test, y_pred)\n",
        "print(classificationr)"
      ],
      "execution_count": 17,
      "outputs": [
        {
          "output_type": "stream",
          "text": [
            "              precision    recall  f1-score   support\n",
            "\n",
            "           0       0.98      0.96      0.97      5945\n",
            "           1       0.58      0.68      0.62       448\n",
            "\n",
            "    accuracy                           0.94      6393\n",
            "   macro avg       0.78      0.82      0.80      6393\n",
            "weighted avg       0.95      0.94      0.94      6393\n",
            "\n"
          ],
          "name": "stdout"
        }
      ]
    },
    {
      "cell_type": "markdown",
      "metadata": {
        "id": "F2NV4iabsqut"
      },
      "source": [
        "Here wee see that the f_1 score for class 1 (negative tweets) is very low. This is because the dataset is highly imbalanced.\n",
        "\n",
        "Why use F1-Score instead of Accuracy ?\n",
        "\n",
        "From the above countplot generated above we see how imbalanced our dataset is.We can see that the values with label:0 i.e. positive sentiments are quite high in number as compared to the values with labels:1 i.e. negative sentiments.\n",
        "So when we keep accuracy as our evaluation metric there may be cases where we may encounter high number of false positives."
      ]
    }
  ]
}